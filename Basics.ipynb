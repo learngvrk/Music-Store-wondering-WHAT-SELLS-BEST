{
 "cells": [
  {
   "cell_type": "markdown",
   "metadata": {},
   "source": [
    "### PROBLEM STATEMENT"
   ]
  },
  {
   "cell_type": "markdown",
   "metadata": {},
   "source": [
    "##### The store does not let customers purchase a whole album, and then add individual tracks to that same purchase (unless they do that by choosing each track manually). When customers purchase albums they are charged the same price as if they had purchased each of those tracks separately.\n",
    "\n",
    "##### Management are currently considering changing their purchasing strategy to save money. The strategy they are considering is to purchase only the most popular tracks from each album from record companies, instead of purchasing every track from an album.\n",
    "\n",
    "##### We have been asked to find out what percentage of purchases are individual tracks vs whole albums, so that management can use this data to understand the effect this decision might have on overall revenue."
   ]
  },
  {
   "cell_type": "code",
   "execution_count": 1,
   "metadata": {
    "collapsed": false
   },
   "outputs": [],
   "source": [
    "# Import libraries for sqllite, pandas and visualization\n",
    "import numpy as np\n",
    "import sqlite3 as sq3\n",
    "import pandas as pd\n",
    "import matplotlib.pyplot as plt"
   ]
  },
  {
   "cell_type": "code",
   "execution_count": 2,
   "metadata": {
    "collapsed": false
   },
   "outputs": [],
   "source": [
    "# Display plots within the notebook\n",
    "%matplotlib inline"
   ]
  },
  {
   "cell_type": "code",
   "execution_count": 3,
   "metadata": {
    "collapsed": true
   },
   "outputs": [],
   "source": [
    "# Function to Run a sql query and return a pandas dataframe\n",
    "def run_query(q):\n",
    "    with sq3.connect('chinook.db') as conn:\n",
    "        return pd.read_sql(q, conn)\n",
    "    "
   ]
  },
  {
   "cell_type": "code",
   "execution_count": 4,
   "metadata": {
    "collapsed": true
   },
   "outputs": [],
   "source": [
    "# Function to take sqlcommand as an argument and execute it using the sqlite module.\n",
    "def run_command(cmd):\n",
    "    with sq3.connect('chinook.db') as conn:\n",
    "        return conn.execute(cmd)"
   ]
  },
  {
   "cell_type": "code",
   "execution_count": 5,
   "metadata": {
    "collapsed": true
   },
   "outputs": [],
   "source": [
    "# Function to display all the tables and views in the database\n",
    "def show_tables(q):\n",
    "    return run_query(q)"
   ]
  },
  {
   "cell_type": "code",
   "execution_count": 6,
   "metadata": {
    "collapsed": false
   },
   "outputs": [
    {
     "data": {
      "text/html": [
       "<div>\n",
       "<style scoped>\n",
       "    .dataframe tbody tr th:only-of-type {\n",
       "        vertical-align: middle;\n",
       "    }\n",
       "\n",
       "    .dataframe tbody tr th {\n",
       "        vertical-align: top;\n",
       "    }\n",
       "\n",
       "    .dataframe thead th {\n",
       "        text-align: right;\n",
       "    }\n",
       "</style>\n",
       "<table border=\"1\" class=\"dataframe\">\n",
       "  <thead>\n",
       "    <tr style=\"text-align: right;\">\n",
       "      <th></th>\n",
       "      <th>invoice_line_id</th>\n",
       "      <th>invoice_id</th>\n",
       "      <th>track_id</th>\n",
       "      <th>unit_price</th>\n",
       "      <th>quantity</th>\n",
       "    </tr>\n",
       "  </thead>\n",
       "  <tbody>\n",
       "    <tr>\n",
       "      <th>0</th>\n",
       "      <td>1</td>\n",
       "      <td>1</td>\n",
       "      <td>1158</td>\n",
       "      <td>0.99</td>\n",
       "      <td>1</td>\n",
       "    </tr>\n",
       "    <tr>\n",
       "      <th>1</th>\n",
       "      <td>2</td>\n",
       "      <td>1</td>\n",
       "      <td>1159</td>\n",
       "      <td>0.99</td>\n",
       "      <td>1</td>\n",
       "    </tr>\n",
       "    <tr>\n",
       "      <th>2</th>\n",
       "      <td>3</td>\n",
       "      <td>1</td>\n",
       "      <td>1160</td>\n",
       "      <td>0.99</td>\n",
       "      <td>1</td>\n",
       "    </tr>\n",
       "    <tr>\n",
       "      <th>3</th>\n",
       "      <td>4</td>\n",
       "      <td>1</td>\n",
       "      <td>1161</td>\n",
       "      <td>0.99</td>\n",
       "      <td>1</td>\n",
       "    </tr>\n",
       "    <tr>\n",
       "      <th>4</th>\n",
       "      <td>5</td>\n",
       "      <td>1</td>\n",
       "      <td>1162</td>\n",
       "      <td>0.99</td>\n",
       "      <td>1</td>\n",
       "    </tr>\n",
       "    <tr>\n",
       "      <th>5</th>\n",
       "      <td>6</td>\n",
       "      <td>1</td>\n",
       "      <td>1163</td>\n",
       "      <td>0.99</td>\n",
       "      <td>1</td>\n",
       "    </tr>\n",
       "    <tr>\n",
       "      <th>6</th>\n",
       "      <td>7</td>\n",
       "      <td>1</td>\n",
       "      <td>1164</td>\n",
       "      <td>0.99</td>\n",
       "      <td>1</td>\n",
       "    </tr>\n",
       "    <tr>\n",
       "      <th>7</th>\n",
       "      <td>8</td>\n",
       "      <td>1</td>\n",
       "      <td>1165</td>\n",
       "      <td>0.99</td>\n",
       "      <td>1</td>\n",
       "    </tr>\n",
       "    <tr>\n",
       "      <th>8</th>\n",
       "      <td>9</td>\n",
       "      <td>1</td>\n",
       "      <td>1166</td>\n",
       "      <td>0.99</td>\n",
       "      <td>1</td>\n",
       "    </tr>\n",
       "    <tr>\n",
       "      <th>9</th>\n",
       "      <td>10</td>\n",
       "      <td>1</td>\n",
       "      <td>1167</td>\n",
       "      <td>0.99</td>\n",
       "      <td>1</td>\n",
       "    </tr>\n",
       "    <tr>\n",
       "      <th>10</th>\n",
       "      <td>11</td>\n",
       "      <td>1</td>\n",
       "      <td>1168</td>\n",
       "      <td>0.99</td>\n",
       "      <td>1</td>\n",
       "    </tr>\n",
       "    <tr>\n",
       "      <th>11</th>\n",
       "      <td>12</td>\n",
       "      <td>1</td>\n",
       "      <td>1169</td>\n",
       "      <td>0.99</td>\n",
       "      <td>1</td>\n",
       "    </tr>\n",
       "    <tr>\n",
       "      <th>12</th>\n",
       "      <td>13</td>\n",
       "      <td>1</td>\n",
       "      <td>1170</td>\n",
       "      <td>0.99</td>\n",
       "      <td>1</td>\n",
       "    </tr>\n",
       "    <tr>\n",
       "      <th>13</th>\n",
       "      <td>14</td>\n",
       "      <td>1</td>\n",
       "      <td>1171</td>\n",
       "      <td>0.99</td>\n",
       "      <td>1</td>\n",
       "    </tr>\n",
       "    <tr>\n",
       "      <th>14</th>\n",
       "      <td>15</td>\n",
       "      <td>1</td>\n",
       "      <td>1172</td>\n",
       "      <td>0.99</td>\n",
       "      <td>1</td>\n",
       "    </tr>\n",
       "    <tr>\n",
       "      <th>15</th>\n",
       "      <td>16</td>\n",
       "      <td>1</td>\n",
       "      <td>1173</td>\n",
       "      <td>0.99</td>\n",
       "      <td>1</td>\n",
       "    </tr>\n",
       "  </tbody>\n",
       "</table>\n",
       "</div>"
      ],
      "text/plain": [
       "    invoice_line_id  invoice_id  track_id  unit_price  quantity\n",
       "0                 1           1      1158        0.99         1\n",
       "1                 2           1      1159        0.99         1\n",
       "2                 3           1      1160        0.99         1\n",
       "3                 4           1      1161        0.99         1\n",
       "4                 5           1      1162        0.99         1\n",
       "5                 6           1      1163        0.99         1\n",
       "6                 7           1      1164        0.99         1\n",
       "7                 8           1      1165        0.99         1\n",
       "8                 9           1      1166        0.99         1\n",
       "9                10           1      1167        0.99         1\n",
       "10               11           1      1168        0.99         1\n",
       "11               12           1      1169        0.99         1\n",
       "12               13           1      1170        0.99         1\n",
       "13               14           1      1171        0.99         1\n",
       "14               15           1      1172        0.99         1\n",
       "15               16           1      1173        0.99         1"
      ]
     },
     "execution_count": 6,
     "metadata": {},
     "output_type": "execute_result"
    }
   ],
   "source": [
    "q = 'SELECT * FROM invoice_line WHERE invoice_id = 1 AND quantity = 1'\n",
    "df = show_tables(q)\n",
    "df"
   ]
  },
  {
   "cell_type": "code",
   "execution_count": 7,
   "metadata": {
    "collapsed": false
   },
   "outputs": [],
   "source": [
    "# Query to find the types of genres and the total number of tracks sold \n",
    "#in absolute numbers and percentages.\n",
    "\n",
    "q1 = \"\"\"WITH GENRE_TRACK AS \n",
    "        (\n",
    "            SELECT\n",
    "                G.NAME,\n",
    "                T.TRACK_ID\n",
    "            FROM GENRE G\n",
    "            INNER JOIN TRACK T ON G.GENRE_ID = T.GENRE_ID\n",
    "        )\n",
    "            \n",
    "        SELECT\n",
    "            G.NAME GENRE,\n",
    "            COUNT(IL.QUANTITY) NO_OF_TRACKS\n",
    "        FROM INVOICE_LINE IL\n",
    "        INNER JOIN GENRE_TRACK G ON G.TRACK_ID = IL.TRACK_ID\n",
    "        GROUP BY G.NAME\n",
    "        ORDER BY NO_OF_TRACKS DESC\"\"\""
   ]
  },
  {
   "cell_type": "code",
   "execution_count": 8,
   "metadata": {
    "collapsed": false
   },
   "outputs": [
    {
     "data": {
      "text/html": [
       "<div>\n",
       "<style scoped>\n",
       "    .dataframe tbody tr th:only-of-type {\n",
       "        vertical-align: middle;\n",
       "    }\n",
       "\n",
       "    .dataframe tbody tr th {\n",
       "        vertical-align: top;\n",
       "    }\n",
       "\n",
       "    .dataframe thead th {\n",
       "        text-align: right;\n",
       "    }\n",
       "</style>\n",
       "<table border=\"1\" class=\"dataframe\">\n",
       "  <thead>\n",
       "    <tr style=\"text-align: right;\">\n",
       "      <th></th>\n",
       "      <th>GENRE</th>\n",
       "      <th>NO_OF_TRACKS</th>\n",
       "    </tr>\n",
       "  </thead>\n",
       "  <tbody>\n",
       "    <tr>\n",
       "      <th>0</th>\n",
       "      <td>Rock</td>\n",
       "      <td>2635</td>\n",
       "    </tr>\n",
       "    <tr>\n",
       "      <th>1</th>\n",
       "      <td>Metal</td>\n",
       "      <td>619</td>\n",
       "    </tr>\n",
       "    <tr>\n",
       "      <th>2</th>\n",
       "      <td>Alternative &amp; Punk</td>\n",
       "      <td>492</td>\n",
       "    </tr>\n",
       "    <tr>\n",
       "      <th>3</th>\n",
       "      <td>Latin</td>\n",
       "      <td>167</td>\n",
       "    </tr>\n",
       "    <tr>\n",
       "      <th>4</th>\n",
       "      <td>R&amp;B/Soul</td>\n",
       "      <td>159</td>\n",
       "    </tr>\n",
       "    <tr>\n",
       "      <th>5</th>\n",
       "      <td>Blues</td>\n",
       "      <td>124</td>\n",
       "    </tr>\n",
       "    <tr>\n",
       "      <th>6</th>\n",
       "      <td>Jazz</td>\n",
       "      <td>121</td>\n",
       "    </tr>\n",
       "    <tr>\n",
       "      <th>7</th>\n",
       "      <td>Alternative</td>\n",
       "      <td>117</td>\n",
       "    </tr>\n",
       "    <tr>\n",
       "      <th>8</th>\n",
       "      <td>Easy Listening</td>\n",
       "      <td>74</td>\n",
       "    </tr>\n",
       "    <tr>\n",
       "      <th>9</th>\n",
       "      <td>Pop</td>\n",
       "      <td>63</td>\n",
       "    </tr>\n",
       "    <tr>\n",
       "      <th>10</th>\n",
       "      <td>Electronica/Dance</td>\n",
       "      <td>55</td>\n",
       "    </tr>\n",
       "    <tr>\n",
       "      <th>11</th>\n",
       "      <td>Classical</td>\n",
       "      <td>47</td>\n",
       "    </tr>\n",
       "    <tr>\n",
       "      <th>12</th>\n",
       "      <td>Reggae</td>\n",
       "      <td>35</td>\n",
       "    </tr>\n",
       "    <tr>\n",
       "      <th>13</th>\n",
       "      <td>Hip Hop/Rap</td>\n",
       "      <td>33</td>\n",
       "    </tr>\n",
       "    <tr>\n",
       "      <th>14</th>\n",
       "      <td>Heavy Metal</td>\n",
       "      <td>8</td>\n",
       "    </tr>\n",
       "    <tr>\n",
       "      <th>15</th>\n",
       "      <td>Soundtrack</td>\n",
       "      <td>5</td>\n",
       "    </tr>\n",
       "    <tr>\n",
       "      <th>16</th>\n",
       "      <td>TV Shows</td>\n",
       "      <td>2</td>\n",
       "    </tr>\n",
       "    <tr>\n",
       "      <th>17</th>\n",
       "      <td>Drama</td>\n",
       "      <td>1</td>\n",
       "    </tr>\n",
       "  </tbody>\n",
       "</table>\n",
       "</div>"
      ],
      "text/plain": [
       "                 GENRE  NO_OF_TRACKS\n",
       "0                 Rock          2635\n",
       "1                Metal           619\n",
       "2   Alternative & Punk           492\n",
       "3                Latin           167\n",
       "4             R&B/Soul           159\n",
       "5                Blues           124\n",
       "6                 Jazz           121\n",
       "7          Alternative           117\n",
       "8       Easy Listening            74\n",
       "9                  Pop            63\n",
       "10   Electronica/Dance            55\n",
       "11           Classical            47\n",
       "12              Reggae            35\n",
       "13         Hip Hop/Rap            33\n",
       "14         Heavy Metal             8\n",
       "15          Soundtrack             5\n",
       "16            TV Shows             2\n",
       "17               Drama             1"
      ]
     },
     "execution_count": 8,
     "metadata": {},
     "output_type": "execute_result"
    }
   ],
   "source": [
    "# Run the query and convert the data into pandas dataframe\n",
    "df = show_tables(q1)\n",
    "df"
   ]
  },
  {
   "cell_type": "code",
   "execution_count": 9,
   "metadata": {
    "collapsed": false
   },
   "outputs": [
    {
     "data": {
      "text/html": [
       "<div>\n",
       "<style scoped>\n",
       "    .dataframe tbody tr th:only-of-type {\n",
       "        vertical-align: middle;\n",
       "    }\n",
       "\n",
       "    .dataframe tbody tr th {\n",
       "        vertical-align: top;\n",
       "    }\n",
       "\n",
       "    .dataframe thead th {\n",
       "        text-align: right;\n",
       "    }\n",
       "</style>\n",
       "<table border=\"1\" class=\"dataframe\">\n",
       "  <thead>\n",
       "    <tr style=\"text-align: right;\">\n",
       "      <th></th>\n",
       "      <th>GENRE</th>\n",
       "      <th>NO_OF_TRACKS</th>\n",
       "      <th>Percentage</th>\n",
       "    </tr>\n",
       "  </thead>\n",
       "  <tbody>\n",
       "    <tr>\n",
       "      <th>0</th>\n",
       "      <td>Rock</td>\n",
       "      <td>2635</td>\n",
       "      <td>55.392054</td>\n",
       "    </tr>\n",
       "    <tr>\n",
       "      <th>1</th>\n",
       "      <td>Metal</td>\n",
       "      <td>619</td>\n",
       "      <td>13.012403</td>\n",
       "    </tr>\n",
       "    <tr>\n",
       "      <th>2</th>\n",
       "      <td>Alternative &amp; Punk</td>\n",
       "      <td>492</td>\n",
       "      <td>10.342653</td>\n",
       "    </tr>\n",
       "    <tr>\n",
       "      <th>3</th>\n",
       "      <td>Latin</td>\n",
       "      <td>167</td>\n",
       "      <td>3.510616</td>\n",
       "    </tr>\n",
       "    <tr>\n",
       "      <th>4</th>\n",
       "      <td>R&amp;B/Soul</td>\n",
       "      <td>159</td>\n",
       "      <td>3.342443</td>\n",
       "    </tr>\n",
       "    <tr>\n",
       "      <th>5</th>\n",
       "      <td>Blues</td>\n",
       "      <td>124</td>\n",
       "      <td>2.606685</td>\n",
       "    </tr>\n",
       "    <tr>\n",
       "      <th>6</th>\n",
       "      <td>Jazz</td>\n",
       "      <td>121</td>\n",
       "      <td>2.543620</td>\n",
       "    </tr>\n",
       "    <tr>\n",
       "      <th>7</th>\n",
       "      <td>Alternative</td>\n",
       "      <td>117</td>\n",
       "      <td>2.459533</td>\n",
       "    </tr>\n",
       "    <tr>\n",
       "      <th>8</th>\n",
       "      <td>Easy Listening</td>\n",
       "      <td>74</td>\n",
       "      <td>1.555602</td>\n",
       "    </tr>\n",
       "    <tr>\n",
       "      <th>9</th>\n",
       "      <td>Pop</td>\n",
       "      <td>63</td>\n",
       "      <td>1.324364</td>\n",
       "    </tr>\n",
       "    <tr>\n",
       "      <th>10</th>\n",
       "      <td>Electronica/Dance</td>\n",
       "      <td>55</td>\n",
       "      <td>1.156191</td>\n",
       "    </tr>\n",
       "    <tr>\n",
       "      <th>11</th>\n",
       "      <td>Classical</td>\n",
       "      <td>47</td>\n",
       "      <td>0.988018</td>\n",
       "    </tr>\n",
       "    <tr>\n",
       "      <th>12</th>\n",
       "      <td>Reggae</td>\n",
       "      <td>35</td>\n",
       "      <td>0.735758</td>\n",
       "    </tr>\n",
       "    <tr>\n",
       "      <th>13</th>\n",
       "      <td>Hip Hop/Rap</td>\n",
       "      <td>33</td>\n",
       "      <td>0.693715</td>\n",
       "    </tr>\n",
       "    <tr>\n",
       "      <th>14</th>\n",
       "      <td>Heavy Metal</td>\n",
       "      <td>8</td>\n",
       "      <td>0.168173</td>\n",
       "    </tr>\n",
       "    <tr>\n",
       "      <th>15</th>\n",
       "      <td>Soundtrack</td>\n",
       "      <td>5</td>\n",
       "      <td>0.105108</td>\n",
       "    </tr>\n",
       "    <tr>\n",
       "      <th>16</th>\n",
       "      <td>TV Shows</td>\n",
       "      <td>2</td>\n",
       "      <td>0.042043</td>\n",
       "    </tr>\n",
       "    <tr>\n",
       "      <th>17</th>\n",
       "      <td>Drama</td>\n",
       "      <td>1</td>\n",
       "      <td>0.021022</td>\n",
       "    </tr>\n",
       "  </tbody>\n",
       "</table>\n",
       "</div>"
      ],
      "text/plain": [
       "                 GENRE  NO_OF_TRACKS  Percentage\n",
       "0                 Rock          2635   55.392054\n",
       "1                Metal           619   13.012403\n",
       "2   Alternative & Punk           492   10.342653\n",
       "3                Latin           167    3.510616\n",
       "4             R&B/Soul           159    3.342443\n",
       "5                Blues           124    2.606685\n",
       "6                 Jazz           121    2.543620\n",
       "7          Alternative           117    2.459533\n",
       "8       Easy Listening            74    1.555602\n",
       "9                  Pop            63    1.324364\n",
       "10   Electronica/Dance            55    1.156191\n",
       "11           Classical            47    0.988018\n",
       "12              Reggae            35    0.735758\n",
       "13         Hip Hop/Rap            33    0.693715\n",
       "14         Heavy Metal             8    0.168173\n",
       "15          Soundtrack             5    0.105108\n",
       "16            TV Shows             2    0.042043\n",
       "17               Drama             1    0.021022"
      ]
     },
     "execution_count": 9,
     "metadata": {},
     "output_type": "execute_result"
    }
   ],
   "source": [
    "# Add the column for percentage of tracks for each genre\n",
    "df['Percentage'] = df['NO_OF_TRACKS']*100/df['NO_OF_TRACKS'].sum()\n",
    "df"
   ]
  },
  {
   "cell_type": "code",
   "execution_count": 10,
   "metadata": {
    "collapsed": false
   },
   "outputs": [
    {
     "data": {
      "text/plain": [
       "<matplotlib.axes._subplots.AxesSubplot at 0x7f6a85720438>"
      ]
     },
     "execution_count": 10,
     "metadata": {},
     "output_type": "execute_result"
    },
    {
     "data": {
      "image/png": "[encoded data removed]",
      "text/plain": [
       "<matplotlib.figure.Figure at 0x7f6a85761128>"
      ]
     },
     "metadata": {},
     "output_type": "display_data"
    }
   ],
   "source": [
    "df.plot(kind='bar')"
   ]
  },
  {
   "cell_type": "code",
   "execution_count": 11,
   "metadata": {
    "collapsed": true
   },
   "outputs": [],
   "source": [
    "# Change the index to Genre names\n",
    "df.set_index(\"GENRE\",drop=True,inplace=True)"
   ]
  },
  {
   "cell_type": "code",
   "execution_count": 12,
   "metadata": {
    "collapsed": false
   },
   "outputs": [
    {
     "data": {
      "text/plain": [
       "<matplotlib.axes._subplots.AxesSubplot at 0x7f6a7ba8d390>"
      ]
     },
     "execution_count": 12,
     "metadata": {},
     "output_type": "execute_result"
    },
    {
     "data": {
      "image/png": "[encoded data removed]",
      "text/plain": [
       "<matplotlib.figure.Figure at 0x7f6a7bacb470>"
      ]
     },
     "metadata": {},
     "output_type": "display_data"
    }
   ],
   "source": [
    "df['Percentage'].plot(kind=\"bar\")"
   ]
  },
  {
   "cell_type": "markdown",
   "metadata": {},
   "source": [
    "#### The Top 4 Genres of the Chinnok store are Rock, Metal, Alternative & Punk, Latin, with Rock having more than 50% of the track type which makes it a clear choice of track type genre to sell in the store. Rock & Metal are more the modern music types which is very popular with the younger generation, so it could be very well that Chinook attracts a lot of customers among the younger population"
   ]
  },
  {
   "cell_type": "code",
   "execution_count": 13,
   "metadata": {
    "collapsed": true
   },
   "outputs": [],
   "source": [
    "# Query to find the employees who have performed better than others, based on total amount purchased by the customers associated to the employee\n",
    "\n",
    "q = \"\"\"SELECT\n",
    "            e.first_name || \" \" || e.last_name Name,\n",
    "            e.title Title,\n",
    "            e.birthdate BirthDate,\n",
    "            e.hire_date HireDate,\n",
    "            SUM(i.total) Total_sales\n",
    "        FROM employee e\n",
    "        INNER JOIN customer c ON e.employee_id = c.support_rep_id\n",
    "        INNER JOIN invoice i ON i.customer_id = c.customer_id\n",
    "        GROUP BY Name\n",
    "        ORDER BY Total_sales DESC\n",
    "    \"\"\""
   ]
  },
  {
   "cell_type": "code",
   "execution_count": 14,
   "metadata": {
    "collapsed": false
   },
   "outputs": [
    {
     "data": {
      "text/html": [
       "<div>\n",
       "<style scoped>\n",
       "    .dataframe tbody tr th:only-of-type {\n",
       "        vertical-align: middle;\n",
       "    }\n",
       "\n",
       "    .dataframe tbody tr th {\n",
       "        vertical-align: top;\n",
       "    }\n",
       "\n",
       "    .dataframe thead th {\n",
       "        text-align: right;\n",
       "    }\n",
       "</style>\n",
       "<table border=\"1\" class=\"dataframe\">\n",
       "  <thead>\n",
       "    <tr style=\"text-align: right;\">\n",
       "      <th></th>\n",
       "      <th>Name</th>\n",
       "      <th>Title</th>\n",
       "      <th>BirthDate</th>\n",
       "      <th>HireDate</th>\n",
       "      <th>Total_sales</th>\n",
       "    </tr>\n",
       "  </thead>\n",
       "  <tbody>\n",
       "    <tr>\n",
       "      <th>0</th>\n",
       "      <td>Jane Peacock</td>\n",
       "      <td>Sales Support Agent</td>\n",
       "      <td>1973-08-29 00:00:00</td>\n",
       "      <td>2017-04-01 00:00:00</td>\n",
       "      <td>1731.51</td>\n",
       "    </tr>\n",
       "    <tr>\n",
       "      <th>1</th>\n",
       "      <td>Margaret Park</td>\n",
       "      <td>Sales Support Agent</td>\n",
       "      <td>1947-09-19 00:00:00</td>\n",
       "      <td>2017-05-03 00:00:00</td>\n",
       "      <td>1584.00</td>\n",
       "    </tr>\n",
       "    <tr>\n",
       "      <th>2</th>\n",
       "      <td>Steve Johnson</td>\n",
       "      <td>Sales Support Agent</td>\n",
       "      <td>1965-03-03 00:00:00</td>\n",
       "      <td>2017-10-17 00:00:00</td>\n",
       "      <td>1393.92</td>\n",
       "    </tr>\n",
       "  </tbody>\n",
       "</table>\n",
       "</div>"
      ],
      "text/plain": [
       "            Name                Title            BirthDate  \\\n",
       "0   Jane Peacock  Sales Support Agent  1973-08-29 00:00:00   \n",
       "1  Margaret Park  Sales Support Agent  1947-09-19 00:00:00   \n",
       "2  Steve Johnson  Sales Support Agent  1965-03-03 00:00:00   \n",
       "\n",
       "              HireDate  Total_sales  \n",
       "0  2017-04-01 00:00:00      1731.51  \n",
       "1  2017-05-03 00:00:00      1584.00  \n",
       "2  2017-10-17 00:00:00      1393.92  "
      ]
     },
     "execution_count": 14,
     "metadata": {},
     "output_type": "execute_result"
    }
   ],
   "source": [
    "df = show_tables(q)\n",
    "df"
   ]
  },
  {
   "cell_type": "markdown",
   "metadata": {},
   "source": [
    "<div class=\"alert alert-block alert-success\">\n",
    "<b>Analysis:</b> \n",
    "1. Only Employees with title: Sales Support Agent have been associated to the Customers as explained in the problem statement.\n",
    "2. The Later the hiring date the lesser sale they have performed which makes more sense.\n",
    "3. The Younger employee have been able to perform better sales than the older employees.\n",
    "</div>"
   ]
  },
  {
   "cell_type": "code",
   "execution_count": 15,
   "metadata": {
    "collapsed": true
   },
   "outputs": [],
   "source": [
    "# Convert the Name column to index.\n",
    "df.set_index(\"Name\", drop=True,inplace=True)"
   ]
  },
  {
   "cell_type": "code",
   "execution_count": 16,
   "metadata": {
    "collapsed": false
   },
   "outputs": [
    {
     "data": {
      "text/plain": [
       "<matplotlib.axes._subplots.AxesSubplot at 0x7f6a7b9403c8>"
      ]
     },
     "execution_count": 16,
     "metadata": {},
     "output_type": "execute_result"
    },
    {
     "data": {
      "image/png": "[encoded data removed]",
      "text/plain": [
       "<matplotlib.figure.Figure at 0x7f6a7b987320>"
      ]
     },
     "metadata": {},
     "output_type": "display_data"
    }
   ],
   "source": [
    "# Plot the sales for the employees\n",
    "df[\"Total_sales\"].plot(kind = 'barh')"
   ]
  },
  {
   "cell_type": "markdown",
   "metadata": {
    "collapsed": false
   },
   "source": [
    "<div class=\"alert alert-block alert-warning\">\n",
    "<b>TO DO LATER</b> \n",
    "Declare a figure and add axes, two different axes on the two sides of y axis.\n",
    "</div>"
   ]
  },
  {
   "cell_type": "code",
   "execution_count": 17,
   "metadata": {
    "collapsed": false
   },
   "outputs": [],
   "source": [
    "# Find data on purchases from different countries. For each country, include:\n",
    "#total number of customers\n",
    "#total value of sales\n",
    "#average value of sales per customer\n",
    "#average order value"
   ]
  },
  {
   "cell_type": "code",
   "execution_count": 18,
   "metadata": {
    "collapsed": true
   },
   "outputs": [],
   "source": [
    "q = \"\"\"WITH inter_table AS\n",
    "        (\n",
    "        SELECT \n",
    "            COUNT(DISTINCT(i.customer_id)) cust_count,\n",
    "            SUM(i.total) total,\n",
    "            SUM(i.total)/COUNT(DISTINCT(i.customer_id)) Avg_sales_customer,\n",
    "            SUM(i.total)/COUNT(i.invoice_id) Avg_order_value,\n",
    "            c.country country\n",
    "        FROM invoice i\n",
    "        INNER JOIN customer c ON i.customer_id = c.customer_id\n",
    "        GROUP BY country\n",
    "        )\n",
    "        \n",
    "        SELECT\n",
    "            country_name,\n",
    "            SUM(cust_count) customer_count,\n",
    "            SUM(total) total_sales,\n",
    "            SUM(Avg_sales_customer) avg_sales_customer,\n",
    "            SUM(Avg_order_value) avg_order_value\n",
    "        FROM\n",
    "            (\n",
    "            SELECT\n",
    "                it.*,\n",
    "                CASE\n",
    "                    WHEN it.cust_count > 1 THEN country\n",
    "                    ELSE \"Other\"\n",
    "                END AS country_name,\n",
    "                CASE\n",
    "                    WHEN it.cust_count > 1 THEN 1\n",
    "                    ELSE 0\n",
    "                END AS sort\n",
    "            FROM inter_table it\n",
    "            )\n",
    "        GROUP BY country_name\n",
    "        ORDER BY sort DESC, total DESC\n",
    "        \"\"\""
   ]
  },
  {
   "cell_type": "code",
   "execution_count": 19,
   "metadata": {
    "collapsed": false
   },
   "outputs": [
    {
     "data": {
      "text/html": [
       "<div>\n",
       "<style scoped>\n",
       "    .dataframe tbody tr th:only-of-type {\n",
       "        vertical-align: middle;\n",
       "    }\n",
       "\n",
       "    .dataframe tbody tr th {\n",
       "        vertical-align: top;\n",
       "    }\n",
       "\n",
       "    .dataframe thead th {\n",
       "        text-align: right;\n",
       "    }\n",
       "</style>\n",
       "<table border=\"1\" class=\"dataframe\">\n",
       "  <thead>\n",
       "    <tr style=\"text-align: right;\">\n",
       "      <th></th>\n",
       "      <th>customer_count</th>\n",
       "      <th>total_sales</th>\n",
       "      <th>avg_sales_customer</th>\n",
       "      <th>avg_order_value</th>\n",
       "    </tr>\n",
       "    <tr>\n",
       "      <th>country_name</th>\n",
       "      <th></th>\n",
       "      <th></th>\n",
       "      <th></th>\n",
       "      <th></th>\n",
       "    </tr>\n",
       "  </thead>\n",
       "  <tbody>\n",
       "    <tr>\n",
       "      <th>USA</th>\n",
       "      <td>13</td>\n",
       "      <td>1040.49</td>\n",
       "      <td>80.037692</td>\n",
       "      <td>7.942672</td>\n",
       "    </tr>\n",
       "    <tr>\n",
       "      <th>Canada</th>\n",
       "      <td>8</td>\n",
       "      <td>535.59</td>\n",
       "      <td>66.948750</td>\n",
       "      <td>7.047237</td>\n",
       "    </tr>\n",
       "    <tr>\n",
       "      <th>Brazil</th>\n",
       "      <td>5</td>\n",
       "      <td>427.68</td>\n",
       "      <td>85.536000</td>\n",
       "      <td>7.011148</td>\n",
       "    </tr>\n",
       "    <tr>\n",
       "      <th>France</th>\n",
       "      <td>5</td>\n",
       "      <td>389.07</td>\n",
       "      <td>77.814000</td>\n",
       "      <td>7.781400</td>\n",
       "    </tr>\n",
       "    <tr>\n",
       "      <th>Germany</th>\n",
       "      <td>4</td>\n",
       "      <td>334.62</td>\n",
       "      <td>83.655000</td>\n",
       "      <td>8.161463</td>\n",
       "    </tr>\n",
       "    <tr>\n",
       "      <th>Czech Republic</th>\n",
       "      <td>2</td>\n",
       "      <td>273.24</td>\n",
       "      <td>136.620000</td>\n",
       "      <td>9.108000</td>\n",
       "    </tr>\n",
       "    <tr>\n",
       "      <th>United Kingdom</th>\n",
       "      <td>3</td>\n",
       "      <td>245.52</td>\n",
       "      <td>81.840000</td>\n",
       "      <td>8.768571</td>\n",
       "    </tr>\n",
       "    <tr>\n",
       "      <th>Portugal</th>\n",
       "      <td>2</td>\n",
       "      <td>185.13</td>\n",
       "      <td>92.565000</td>\n",
       "      <td>6.383793</td>\n",
       "    </tr>\n",
       "    <tr>\n",
       "      <th>India</th>\n",
       "      <td>2</td>\n",
       "      <td>183.15</td>\n",
       "      <td>91.575000</td>\n",
       "      <td>8.721429</td>\n",
       "    </tr>\n",
       "    <tr>\n",
       "      <th>Other</th>\n",
       "      <td>15</td>\n",
       "      <td>1094.94</td>\n",
       "      <td>1094.940000</td>\n",
       "      <td>111.676066</td>\n",
       "    </tr>\n",
       "  </tbody>\n",
       "</table>\n",
       "</div>"
      ],
      "text/plain": [
       "                customer_count  total_sales  avg_sales_customer  \\\n",
       "country_name                                                      \n",
       "USA                         13      1040.49           80.037692   \n",
       "Canada                       8       535.59           66.948750   \n",
       "Brazil                       5       427.68           85.536000   \n",
       "France                       5       389.07           77.814000   \n",
       "Germany                      4       334.62           83.655000   \n",
       "Czech Republic               2       273.24          136.620000   \n",
       "United Kingdom               3       245.52           81.840000   \n",
       "Portugal                     2       185.13           92.565000   \n",
       "India                        2       183.15           91.575000   \n",
       "Other                       15      1094.94         1094.940000   \n",
       "\n",
       "                avg_order_value  \n",
       "country_name                     \n",
       "USA                    7.942672  \n",
       "Canada                 7.047237  \n",
       "Brazil                 7.011148  \n",
       "France                 7.781400  \n",
       "Germany                8.161463  \n",
       "Czech Republic         9.108000  \n",
       "United Kingdom         8.768571  \n",
       "Portugal               6.383793  \n",
       "India                  8.721429  \n",
       "Other                111.676066  "
      ]
     },
     "execution_count": 19,
     "metadata": {},
     "output_type": "execute_result"
    }
   ],
   "source": [
    "df = show_tables(q)\n",
    "df.set_index(\"country_name\", drop=True, inplace=True)\n",
    "df"
   ]
  },
  {
   "cell_type": "code",
   "execution_count": 20,
   "metadata": {
    "collapsed": false
   },
   "outputs": [
    {
     "data": {
      "text/plain": [
       "<matplotlib.axes._subplots.AxesSubplot at 0x7f6a7b917550>"
      ]
     },
     "execution_count": 20,
     "metadata": {},
     "output_type": "execute_result"
    },
    {
     "data": {
      "image/png": "[encoded data removed]",
      "text/plain": [
       "<matplotlib.figure.Figure at 0x7f6a7b8ceac8>"
      ]
     },
     "metadata": {},
     "output_type": "display_data"
    }
   ],
   "source": [
    "# Plot Horizontal Bar Graph to visualize the results of the country sales data\n",
    "df['total_sales'].plot(kind='barh')"
   ]
  },
  {
   "cell_type": "markdown",
   "metadata": {
    "collapsed": true
   },
   "source": [
    "#### Visualize all the features along with the customer count to better understand the customer trend"
   ]
  },
  {
   "cell_type": "code",
   "execution_count": 21,
   "metadata": {
    "collapsed": false
   },
   "outputs": [],
   "source": [
    "#df.shape[0]"
   ]
  },
  {
   "cell_type": "code",
   "execution_count": 22,
   "metadata": {
    "collapsed": false
   },
   "outputs": [
    {
     "data": {
      "image/png": "[encoded data removed]",
      "text/plain": [
       "<matplotlib.figure.Figure at 0x7f6a7e910da0>"
      ]
     },
     "metadata": {},
     "output_type": "display_data"
    }
   ],
   "source": [
    "# Assign colors to the different countries in the data.\n",
    "colors = [plt.cm.Accent(i) for i in np.linspace(0, 1, df.shape[0])]\n",
    "\n",
    "# Initilaizing a figure to multiple graphs\n",
    "fig, ax = plt.subplots(2, 2, figsize=(10,10))\n",
    "ax1, ax2, ax3, ax4 = ax.flatten()\n",
    "fig.subplots_adjust(hspace=.5, wspace=.3)\n",
    "\n",
    "# Pie Chart for visualizing sales per country\n",
    "for_pie = df['total_sales'].copy().rename('')\n",
    "\n",
    "for_pie.plot.pie(\n",
    "    ax = ax1,\n",
    "    title = \"Sales Percentage per Country\",\n",
    "    startangle=-90,\n",
    "    colormap=plt.cm.Accent,\n",
    "    fontsize=8,\n",
    "    wedgeprops={'linewidth':0})\n",
    "\n",
    "#  Bar Chart for Percentage of Customers Vs Sales\n",
    "cust_sales = [\"customer_count\", \"total_sales\"]\n",
    "pct_cust_sales = df[cust_sales].copy()\n",
    "pct_cust_sales.index.name = ''\n",
    "\n",
    "for c in cust_sales:\n",
    "    pct_cust_sales[c] /= pct_cust_sales[c].sum()/100\n",
    "pct_cust_sales.plot.bar(\n",
    "    ax = ax2,\n",
    "    title = \"Pct Customers Vs Sales\",\n",
    "    colormap = plt.cm.Set1)\n",
    "\n",
    "ax2.tick_params(top=\"off\", left = \"off\", right=\"off\", bottom = \"off\")\n",
    "ax2.spines[\"top\"].set_visible(False)\n",
    "ax2.spines[\"right\"].set_visible(False)\n",
    "\n",
    "# Bar Chart with difference from Mean for Average Order\n",
    "avg_order = df['avg_order_value'].copy().rename('')\n",
    "avg_order.drop(\"Other\", inplace=True)\n",
    "\n",
    "diff_avg_order = (avg_order - avg_order.mean())*100\n",
    "\n",
    "diff_avg_order.plot.bar(\n",
    "    ax = ax3,\n",
    "    title = \"Average Order\\n Difference from the Mean\",\n",
    "    color = colors)\n",
    "\n",
    "ax3.axhline(0, color='k')\n",
    "ax3.tick_params(top=\"off\", left = \"off\", right=\"off\", bottom = \"off\")\n",
    "ax3.spines[\"top\"].set_visible(False)\n",
    "ax3.spines[\"right\"].set_visible(False)\n",
    "ax3.spines[\"bottom\"].set_visible(False)\n",
    "\n",
    "# Bar Graph for Average Customer sales per Country\n",
    "avg_sales = df['avg_sales_customer'].copy().rename('')\n",
    "avg_sales.drop('Other', inplace=True)\n",
    "avg_sales.plot.bar(\n",
    "    ax = ax4,\n",
    "    title = \"Average Sales per Customer\",\n",
    "    color = colors)\n",
    "\n",
    "ax4.tick_params(top=\"off\", left = \"off\", right=\"off\", bottom = \"off\")\n",
    "ax4.spines[\"top\"].set_visible(False)\n",
    "ax4.spines[\"right\"].set_visible(False)\n",
    "\n",
    "# Update the font sie of the graphs\n",
    "plt.rcParams.update({'font.size': 10})"
   ]
  },
  {
   "cell_type": "markdown",
   "metadata": {
    "collapsed": true
   },
   "source": [
    "<div class=\"alert alert-block alert-success\">\n",
    "<b>Analysis:</b> \n",
    "1. USA by the virtue of its sales becomes an important country to concentrate on and expand, also considering that it has the highest number of customers.\n",
    "\n",
    "2. Czech have a higher sales inspite of the relatively lesser Percentage of Customers. Also it has a very high average order value and average sales per customer.\n",
    "\n",
    "3. Germany and United Kingdom are similar to Czech with Higher average sales, average order value which make them good geographies to concentrate and improve the sales.\n",
    "\n",
    "4. India among the countries with a lesser total sales needs a lot of attention for the reason being its average order per customer and average sales per customer is very high.\n",
    "\n",
    "5. Portugal which has a higher Average Customer Sale, has a lower Average order value, which can lead to lesser profits, so the Company should look at increasing the average order value. \n",
    "\n",
    "6. Other countries like Brazil and Cananda seem to have similar problems like Portugal which needs more attention from the company.\n",
    "\n",
    "</div>"
   ]
  },
  {
   "cell_type": "markdown",
   "metadata": {},
   "source": [
    "### Query to find the percentage of albums with all tracks purchased and few tracks purchased with the Chinook store."
   ]
  },
  {
   "cell_type": "code",
   "execution_count": 23,
   "metadata": {
    "collapsed": true
   },
   "outputs": [],
   "source": [
    "q = \"\"\"WITH sub_query1 AS\n",
    "\t(\n",
    "\tSELECT * \n",
    "\tFROM track \n",
    "\tWHERE album_id in (\n",
    "\t\t\t\t\t\tselect album_id FROM track \n",
    "\t\t\t\t\t\tGROUP BY album_id\n",
    "\t\t\t\t\t\tHAVING count(track_id) > 2 \n",
    "\t\t\t\t\t  )\n",
    "\t),\n",
    "\t\n",
    "\tsub_query2 AS\n",
    "\t(\n",
    "\tSELECT \n",
    "\t\ti.invoice_id, \n",
    "\t\tt.album_id, \n",
    "\t\tcount(i.track_id) no_tracks,\n",
    "\t\t--count(DISTINCT(t.album_id))no_albums\n",
    "\t\tCASE WHEN (SELECT count(track_id) FROM track GROUP BY album_id HAVING album_id = t.album_id) = count(i.track_id) THEN 'Yes'\n",
    "\t\t\t --WHEN (SELECT count(track_id) FROM track GROUP BY album_id HAVING album_id = t.album_id) = count(i.track_id) AND (count(i.track_id) < 3) THEN 'Ignore'\n",
    "\t\t\t ELSE 'No'\n",
    "\t\tEND as all_tracks_purchased\n",
    "\tFROM invoice_line i\n",
    "\tINNER JOIN sub_query1 t on i.track_id = t.track_id\n",
    "\tGROUP BY i.invoice_id, t.album_id\n",
    "\t),\n",
    "\t\n",
    "\tsub_query3 AS\n",
    "\t(\n",
    "\tSELECT * \n",
    "\tFROM sub_query2\n",
    "\tGROUP BY invoice_id\n",
    "\t),\n",
    "\t\n",
    "\tsub_query4 AS\n",
    "\t(\n",
    "\tselect count(*) FROM sub_query3\n",
    "\t)\n",
    "\n",
    "SELECT \n",
    "\tcount(*) Yes_No_Count,\n",
    "\tROUND(count(*)*100.0/(select count(*) FROM sub_query3), 2) Yes_No_Percentage\n",
    "FROM sub_query3\n",
    "GROUP BY all_tracks_purchased\"\"\""
   ]
  },
  {
   "cell_type": "code",
   "execution_count": 24,
   "metadata": {
    "collapsed": false
   },
   "outputs": [
    {
     "data": {
      "text/html": [
       "<div>\n",
       "<style scoped>\n",
       "    .dataframe tbody tr th:only-of-type {\n",
       "        vertical-align: middle;\n",
       "    }\n",
       "\n",
       "    .dataframe tbody tr th {\n",
       "        vertical-align: top;\n",
       "    }\n",
       "\n",
       "    .dataframe thead th {\n",
       "        text-align: right;\n",
       "    }\n",
       "</style>\n",
       "<table border=\"1\" class=\"dataframe\">\n",
       "  <thead>\n",
       "    <tr style=\"text-align: right;\">\n",
       "      <th></th>\n",
       "      <th>Yes_No_Count</th>\n",
       "      <th>Yes_No_Percentage</th>\n",
       "    </tr>\n",
       "    <tr>\n",
       "      <th>tracks/albums</th>\n",
       "      <th></th>\n",
       "      <th></th>\n",
       "    </tr>\n",
       "  </thead>\n",
       "  <tbody>\n",
       "    <tr>\n",
       "      <th>Tracks</th>\n",
       "      <td>500</td>\n",
       "      <td>81.83</td>\n",
       "    </tr>\n",
       "    <tr>\n",
       "      <th>Albums</th>\n",
       "      <td>111</td>\n",
       "      <td>18.17</td>\n",
       "    </tr>\n",
       "  </tbody>\n",
       "</table>\n",
       "</div>"
      ],
      "text/plain": [
       "               Yes_No_Count  Yes_No_Percentage\n",
       "tracks/albums                                 \n",
       "Tracks                  500              81.83\n",
       "Albums                  111              18.17"
      ]
     },
     "execution_count": 24,
     "metadata": {},
     "output_type": "execute_result"
    }
   ],
   "source": [
    "df = show_tables(q)\n",
    "df[\"tracks/albums\"] = pd.Series([\"Tracks\", \"Albums\"])\n",
    "df.set_index(\"tracks/albums\", drop=True, inplace=True)\n",
    "df"
   ]
  },
  {
   "cell_type": "code",
   "execution_count": 25,
   "metadata": {
    "collapsed": false
   },
   "outputs": [
    {
     "data": {
      "text/plain": [
       "<matplotlib.axes._subplots.AxesSubplot at 0x7f6a7b907400>"
      ]
     },
     "execution_count": 25,
     "metadata": {},
     "output_type": "execute_result"
    },
    {
     "data": {
      "image/png": "[encoded data removed]",
      "text/plain": [
       "<matplotlib.figure.Figure at 0x7f6a7b8e1d68>"
      ]
     },
     "metadata": {},
     "output_type": "display_data"
    }
   ],
   "source": [
    "# Plot the results\n",
    "df['Yes_No_Percentage'].plot.bar()"
   ]
  },
  {
   "cell_type": "markdown",
   "metadata": {},
   "source": [
    "<div class=\"alert alert-block alert-success\">\n",
    "<b> Result of the Data Analysis </b>\n",
    "Based on the findings, the Chinook Store should concentrate more on individual tracks which are purchased way more than the albums purchased by the customers. Only 18.17% are album purchases while the rest are Tracks.\n",
    "</div>"
   ]
  }
 ],
 "metadata": {
  "kernelspec": {
   "display_name": "Python 3",
   "language": "python",
   "name": "python3"
  },
  "language_info": {
   "codemirror_mode": {
    "name": "ipython",
    "version": 3
   },
   "file_extension": ".py",
   "mimetype": "text/x-python",
   "name": "python",
   "nbconvert_exporter": "python",
   "pygments_lexer": "ipython3",
   "version": "3.4.3"
  }
 },
 "nbformat": 4,
 "nbformat_minor": 2
}
